{
  "nbformat": 4,
  "nbformat_minor": 0,
  "metadata": {
    "colab": {
      "provenance": [],
      "authorship_tag": "ABX9TyMtdfuH+6yRh7w3Kyii3Lq0"
    },
    "kernelspec": {
      "name": "python3",
      "display_name": "Python 3"
    },
    "language_info": {
      "name": "python"
    }
  },
  "cells": [
    {
      "cell_type": "markdown",
      "source": [
        "https://elf-c.he.u-tokyo.ac.jp/courses/325"
      ],
      "metadata": {
        "id": "B3-q_c-g6Lg7"
      }
    },
    {
      "cell_type": "markdown",
      "source": [
        "Q1 0から100までの整数を要素とする任意の長さのリストを引数で入力として受け取り，以下を要素とするリストを返すavc_max_min関数を作る．\n",
        "\n",
        "・入力リストの全ての要素の平均値\n",
        "\n",
        "・入力リストの全ての要素の中での最大値\n",
        "\n",
        "・入力リストの全ての要素の最小値"
      ],
      "metadata": {
        "id": "-rTv0x3a6Zlp"
      }
    },
    {
      "cell_type": "code",
      "execution_count": 1,
      "metadata": {
        "id": "0x_u72oj5SUX"
      },
      "outputs": [],
      "source": [
        "def avg_max_min(input_list):\n",
        "  return [sum(input_list)/len(input_list), max(input_list), min(input_list)]"
      ]
    },
    {
      "cell_type": "code",
      "source": [
        "print(avg_max_min([30, 39, 29, 95, 70, 67, 29, 56, 45, 68]))"
      ],
      "metadata": {
        "colab": {
          "base_uri": "https://localhost:8080/"
        },
        "id": "dJl_qjtU8AEF",
        "outputId": "86289827-5142-4be3-f00c-14bd747f3f98"
      },
      "execution_count": 2,
      "outputs": [
        {
          "output_type": "stream",
          "name": "stdout",
          "text": [
            "[52.8, 95, 29]\n"
          ]
        }
      ]
    }
  ]
}
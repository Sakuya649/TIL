{
  "nbformat": 4,
  "nbformat_minor": 0,
  "metadata": {
    "colab": {
      "provenance": [],
      "authorship_tag": "ABX9TyNujRsGy0yF8kAf3lKs0eUD"
    },
    "kernelspec": {
      "name": "python3",
      "display_name": "Python 3"
    },
    "language_info": {
      "name": "python"
    }
  },
  "cells": [
    {
      "cell_type": "markdown",
      "source": [
        "探索とソートで学ぶ計算量\n",
        "\n",
        "線形探索と二分木探索を比較する"
      ],
      "metadata": {
        "id": "zNiEj1cj1qgp"
      }
    },
    {
      "cell_type": "code",
      "source": [
        "def liner_search(data, key):\n",
        "  position = 0\n",
        "  end = len(data) - 1\n",
        "  steps = 1\n",
        "  while position <= end:\n",
        "    if data[position] == key:\n",
        "      return steps, position\n",
        "    steps += 1\n",
        "    position += 1\n",
        "  return steps, -1"
      ],
      "metadata": {
        "id": "a2olABNv1qPq"
      },
      "execution_count": null,
      "outputs": []
    },
    {
      "cell_type": "code",
      "source": [
        "def binary_search(data, key):\n",
        "  start = 0\n",
        "  end = len(data) - 1\n",
        "  steps = 1\n",
        "  while start <= end:\n",
        "    middle = (start + end) // 2\n",
        "    if data[middle] == key:\n",
        "      return steps, middle\n",
        "    elif data[middle] < key:\n",
        "      start = middle + 1\n",
        "    else:\n",
        "      end = middle - 1\n",
        "    steps += 1\n",
        "  return steps, -1"
      ],
      "metadata": {
        "id": "5LWP_yDk23mG"
      },
      "execution_count": null,
      "outputs": []
    },
    {
      "cell_type": "code",
      "source": [
        "def search(title, data, func):\n",
        "  print(title)\n",
        "  max_steps = 1\n",
        "  for key in data:\n",
        "    steps, pos = func(data, key)\n",
        "    if max_steps < steps:\n",
        "      max_steps = steps\n",
        "    print('key:{} position:{} steps:{}'.format(key, pos, steps))\n",
        "  print('最大ステップ数:{}\\n'.format(max_steps))\n",
        "  return"
      ],
      "metadata": {
        "id": "jG7wDk563cfu"
      },
      "execution_count": null,
      "outputs": []
    },
    {
      "cell_type": "code",
      "source": [
        "data = [1, 3, 7, 13, 17, 21, 74]\n",
        "length = len(data)\n",
        "print('探索データ:{}\\n長さ:{}\\n'.format(data, length))\n",
        "search('線形探索',data,liner_search)\n",
        "search('二分技探索', data, binary_search)"
      ],
      "metadata": {
        "colab": {
          "base_uri": "https://localhost:8080/"
        },
        "id": "81bhu5HF4Bd7",
        "outputId": "1a64abef-3940-4d28-ecc1-fe7f0a81260e"
      },
      "execution_count": null,
      "outputs": [
        {
          "output_type": "stream",
          "name": "stdout",
          "text": [
            "探索データ:[1, 3, 7, 13, 17, 21, 74]\n",
            "長さ:7\n",
            "\n",
            "線形探索\n",
            "key:1 position:0 steps:1\n",
            "key:3 position:1 steps:2\n",
            "key:7 position:2 steps:3\n",
            "key:13 position:3 steps:4\n",
            "key:17 position:4 steps:5\n",
            "key:21 position:5 steps:6\n",
            "key:74 position:6 steps:7\n",
            "最大ステップ数:7\n",
            "\n",
            "二分技探索\n",
            "key:1 position:0 steps:3\n",
            "key:3 position:1 steps:2\n",
            "key:7 position:2 steps:3\n",
            "key:13 position:3 steps:1\n",
            "key:17 position:4 steps:3\n",
            "key:21 position:5 steps:2\n",
            "key:74 position:6 steps:3\n",
            "最大ステップ数:3\n",
            "\n"
          ]
        }
      ]
    },
    {
      "cell_type": "markdown",
      "source": [
        "連結リストの実装"
      ],
      "metadata": {
        "id": "LqrO9DzVv9L9"
      }
    },
    {
      "cell_type": "code",
      "source": [
        "class Node:\n",
        "  def __init__(self, value=''):\n",
        "    self.next = None\n",
        "    self.pre = None\n",
        "    self.value = value\n",
        "\n",
        "nil = Node()\n",
        "nil.next = nil\n",
        "nil.pre = nil\n",
        "\n",
        "#ノードpの直後にノードvを挿入する\n",
        "def insert(v, p):\n",
        "  v.next = p.next\n",
        "  (p.next).pre = v\n",
        "  p.next = v\n",
        "  v.pre = p\n",
        "\n",
        "#ノードvを削除\n",
        "def erase(v):\n",
        "  (v.pre).next = v.next\n",
        "  v.next.pre = v.pre\n",
        "\n",
        "#連結リストの中身を順番に表示する\n",
        "def printList():\n",
        "  values = []\n",
        "  cur = nil.next\n",
        "  while cur != nil:\n",
        "    values.append(cur.value)\n",
        "    cur = cur.next\n",
        "  print(values)\n",
        "\n",
        "sato = Node('sato')\n",
        "suzuki = Node('suzuki')\n",
        "takahashi = Node('takahashi')\n",
        "ito = Node('ito')\n",
        "watanabe = Node('watanabe')\n",
        "yamamoto = Node('yamamoto')\n",
        "\n",
        "nodes = [yamamoto, watanabe, ito, takahashi, suzuki, sato]\n",
        "\n",
        "for node in nodes:\n",
        "  insert(node, nil)\n",
        "print('Before: ')\n",
        "printList()\n",
        "\n",
        "erase(watanabe)\n",
        "print('After: ')\n",
        "printList()"
      ],
      "metadata": {
        "colab": {
          "base_uri": "https://localhost:8080/"
        },
        "id": "7NeG1h1HvBdn",
        "outputId": "62118963-d13e-487e-f116-e407e39cb5cd"
      },
      "execution_count": 1,
      "outputs": [
        {
          "output_type": "stream",
          "name": "stdout",
          "text": [
            "Before: \n",
            "['sato', 'suzuki', 'takahashi', 'ito', 'watanabe', 'yamamoto']\n",
            "After: \n",
            "['sato', 'suzuki', 'takahashi', 'ito', 'yamamoto']\n"
          ]
        }
      ]
    }
  ]
}